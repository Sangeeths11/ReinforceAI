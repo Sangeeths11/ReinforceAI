{
 "cells": [
  {
   "cell_type": "markdown",
   "metadata": {},
   "source": [
    "https://www.gymlibrary.dev/environments/classic_control/cart_pole/"
   ]
  },
  {
   "cell_type": "markdown",
   "metadata": {},
   "source": [
    "# Import dependencies"
   ]
  },
  {
   "cell_type": "code",
   "execution_count": 1,
   "metadata": {},
   "outputs": [
    {
     "name": "stdout",
     "output_type": "stream",
     "text": [
      "Requirement already satisfied: stable-baselines3[extra] in c:\\users\\csang\\miniconda3\\envs\\fhgr\\lib\\site-packages (2.3.2)\n",
      "Requirement already satisfied: gymnasium<0.30,>=0.28.1 in c:\\users\\csang\\miniconda3\\envs\\fhgr\\lib\\site-packages (from stable-baselines3[extra]) (0.29.1)\n",
      "Requirement already satisfied: pandas in c:\\users\\csang\\miniconda3\\envs\\fhgr\\lib\\site-packages (from stable-baselines3[extra]) (1.5.3)\n",
      "Requirement already satisfied: matplotlib in c:\\users\\csang\\miniconda3\\envs\\fhgr\\lib\\site-packages (from stable-baselines3[extra]) (3.7.0)\n",
      "Requirement already satisfied: numpy>=1.20 in c:\\users\\csang\\miniconda3\\envs\\fhgr\\lib\\site-packages (from stable-baselines3[extra]) (1.24.2)\n",
      "Requirement already satisfied: cloudpickle in c:\\users\\csang\\miniconda3\\envs\\fhgr\\lib\\site-packages (from stable-baselines3[extra]) (3.0.0)\n",
      "Requirement already satisfied: torch>=1.13 in c:\\users\\csang\\miniconda3\\envs\\fhgr\\lib\\site-packages (from stable-baselines3[extra]) (2.2.2)\n",
      "Requirement already satisfied: tensorboard>=2.9.1 in c:\\users\\csang\\miniconda3\\envs\\fhgr\\lib\\site-packages (from stable-baselines3[extra]) (2.15.2)\n",
      "Requirement already satisfied: autorom[accept-rom-license]~=0.6.1 in c:\\users\\csang\\miniconda3\\envs\\fhgr\\lib\\site-packages (from stable-baselines3[extra]) (0.6.1)\n",
      "Requirement already satisfied: shimmy[atari]~=1.3.0 in c:\\users\\csang\\miniconda3\\envs\\fhgr\\lib\\site-packages (from stable-baselines3[extra]) (1.3.0)\n",
      "Requirement already satisfied: tqdm in c:\\users\\csang\\miniconda3\\envs\\fhgr\\lib\\site-packages (from stable-baselines3[extra]) (4.65.0)\n",
      "Requirement already satisfied: psutil in c:\\users\\csang\\appdata\\roaming\\python\\python310\\site-packages (from stable-baselines3[extra]) (5.9.2)\n",
      "Requirement already satisfied: rich in c:\\users\\csang\\miniconda3\\envs\\fhgr\\lib\\site-packages (from stable-baselines3[extra]) (13.3.1)\n",
      "Requirement already satisfied: opencv-python in c:\\users\\csang\\miniconda3\\envs\\fhgr\\lib\\site-packages (from stable-baselines3[extra]) (4.7.0.72)\n",
      "Requirement already satisfied: pillow in c:\\users\\csang\\miniconda3\\envs\\fhgr\\lib\\site-packages (from stable-baselines3[extra]) (9.4.0)\n",
      "Requirement already satisfied: pygame in c:\\users\\csang\\miniconda3\\envs\\fhgr\\lib\\site-packages (from stable-baselines3[extra]) (2.6.0)\n",
      "Requirement already satisfied: click in c:\\users\\csang\\miniconda3\\envs\\fhgr\\lib\\site-packages (from autorom[accept-rom-license]~=0.6.1->stable-baselines3[extra]) (8.1.3)\n",
      "Requirement already satisfied: requests in c:\\users\\csang\\miniconda3\\envs\\fhgr\\lib\\site-packages (from autorom[accept-rom-license]~=0.6.1->stable-baselines3[extra]) (2.28.2)\n",
      "Requirement already satisfied: AutoROM.accept-rom-license in c:\\users\\csang\\miniconda3\\envs\\fhgr\\lib\\site-packages (from autorom[accept-rom-license]~=0.6.1->stable-baselines3[extra]) (0.6.1)\n",
      "Requirement already satisfied: typing-extensions>=4.3.0 in c:\\users\\csang\\miniconda3\\envs\\fhgr\\lib\\site-packages (from gymnasium<0.30,>=0.28.1->stable-baselines3[extra]) (4.11.0)\n",
      "Requirement already satisfied: farama-notifications>=0.0.1 in c:\\users\\csang\\miniconda3\\envs\\fhgr\\lib\\site-packages (from gymnasium<0.30,>=0.28.1->stable-baselines3[extra]) (0.0.4)\n",
      "Requirement already satisfied: ale-py~=0.8.1 in c:\\users\\csang\\miniconda3\\envs\\fhgr\\lib\\site-packages (from shimmy[atari]~=1.3.0->stable-baselines3[extra]) (0.8.1)\n",
      "Requirement already satisfied: setuptools>=41.0.0 in c:\\users\\csang\\miniconda3\\envs\\fhgr\\lib\\site-packages (from tensorboard>=2.9.1->stable-baselines3[extra]) (68.0.0)\n",
      "Requirement already satisfied: tensorboard-data-server<0.8.0,>=0.7.0 in c:\\users\\csang\\miniconda3\\envs\\fhgr\\lib\\site-packages (from tensorboard>=2.9.1->stable-baselines3[extra]) (0.7.2)\n",
      "Requirement already satisfied: grpcio>=1.48.2 in c:\\users\\csang\\miniconda3\\envs\\fhgr\\lib\\site-packages (from tensorboard>=2.9.1->stable-baselines3[extra]) (1.59.2)\n",
      "Requirement already satisfied: google-auth-oauthlib<2,>=0.5 in c:\\users\\csang\\miniconda3\\envs\\fhgr\\lib\\site-packages (from tensorboard>=2.9.1->stable-baselines3[extra]) (1.1.0)\n",
      "Requirement already satisfied: markdown>=2.6.8 in c:\\users\\csang\\miniconda3\\envs\\fhgr\\lib\\site-packages (from tensorboard>=2.9.1->stable-baselines3[extra]) (3.5.2)\n",
      "Requirement already satisfied: google-auth<3,>=1.6.3 in c:\\users\\csang\\miniconda3\\envs\\fhgr\\lib\\site-packages (from tensorboard>=2.9.1->stable-baselines3[extra]) (2.23.4)\n",
      "Requirement already satisfied: absl-py>=0.4 in c:\\users\\csang\\miniconda3\\envs\\fhgr\\lib\\site-packages (from tensorboard>=2.9.1->stable-baselines3[extra]) (2.1.0)\n",
      "Requirement already satisfied: protobuf!=4.24.0,>=3.19.6 in c:\\users\\csang\\miniconda3\\envs\\fhgr\\lib\\site-packages (from tensorboard>=2.9.1->stable-baselines3[extra]) (4.25.3)\n",
      "Requirement already satisfied: six>1.9 in c:\\users\\csang\\appdata\\roaming\\python\\python310\\site-packages (from tensorboard>=2.9.1->stable-baselines3[extra]) (1.16.0)\n",
      "Requirement already satisfied: werkzeug>=1.0.1 in c:\\users\\csang\\miniconda3\\envs\\fhgr\\lib\\site-packages (from tensorboard>=2.9.1->stable-baselines3[extra]) (2.2.3)\n",
      "Requirement already satisfied: fsspec in c:\\users\\csang\\miniconda3\\envs\\fhgr\\lib\\site-packages (from torch>=1.13->stable-baselines3[extra]) (2023.9.0)\n",
      "Requirement already satisfied: jinja2 in c:\\users\\csang\\miniconda3\\envs\\fhgr\\lib\\site-packages (from torch>=1.13->stable-baselines3[extra]) (3.1.2)\n",
      "Requirement already satisfied: filelock in c:\\users\\csang\\miniconda3\\envs\\fhgr\\lib\\site-packages (from torch>=1.13->stable-baselines3[extra]) (3.12.0)\n",
      "Requirement already satisfied: networkx in c:\\users\\csang\\miniconda3\\envs\\fhgr\\lib\\site-packages (from torch>=1.13->stable-baselines3[extra]) (3.1)\n",
      "Requirement already satisfied: sympy in c:\\users\\csang\\miniconda3\\envs\\fhgr\\lib\\site-packages (from torch>=1.13->stable-baselines3[extra]) (1.11.1)\n",
      "Requirement already satisfied: cycler>=0.10 in c:\\users\\csang\\miniconda3\\envs\\fhgr\\lib\\site-packages (from matplotlib->stable-baselines3[extra]) (0.11.0)\n",
      "Requirement already satisfied: packaging>=20.0 in c:\\users\\csang\\appdata\\roaming\\python\\python310\\site-packages (from matplotlib->stable-baselines3[extra]) (21.3)\n",
      "Requirement already satisfied: fonttools>=4.22.0 in c:\\users\\csang\\miniconda3\\envs\\fhgr\\lib\\site-packages (from matplotlib->stable-baselines3[extra]) (4.38.0)\n",
      "Requirement already satisfied: pyparsing>=2.3.1 in c:\\users\\csang\\appdata\\roaming\\python\\python310\\site-packages (from matplotlib->stable-baselines3[extra]) (3.0.9)\n",
      "Requirement already satisfied: python-dateutil>=2.7 in c:\\users\\csang\\appdata\\roaming\\python\\python310\\site-packages (from matplotlib->stable-baselines3[extra]) (2.8.2)\n",
      "Requirement already satisfied: contourpy>=1.0.1 in c:\\users\\csang\\miniconda3\\envs\\fhgr\\lib\\site-packages (from matplotlib->stable-baselines3[extra]) (1.0.7)\n",
      "Requirement already satisfied: kiwisolver>=1.0.1 in c:\\users\\csang\\miniconda3\\envs\\fhgr\\lib\\site-packages (from matplotlib->stable-baselines3[extra]) (1.4.4)\n",
      "Requirement already satisfied: pytz>=2020.1 in c:\\users\\csang\\miniconda3\\envs\\fhgr\\lib\\site-packages (from pandas->stable-baselines3[extra]) (2022.7.1)\n",
      "Requirement already satisfied: pygments<3.0.0,>=2.14.0 in c:\\users\\csang\\miniconda3\\envs\\fhgr\\lib\\site-packages (from rich->stable-baselines3[extra]) (2.14.0)\n",
      "Requirement already satisfied: markdown-it-py<3.0.0,>=2.1.0 in c:\\users\\csang\\miniconda3\\envs\\fhgr\\lib\\site-packages (from rich->stable-baselines3[extra]) (2.2.0)\n",
      "Requirement already satisfied: colorama in c:\\users\\csang\\miniconda3\\envs\\fhgr\\lib\\site-packages (from tqdm->stable-baselines3[extra]) (0.4.6)\n",
      "Requirement already satisfied: importlib-resources in c:\\users\\csang\\miniconda3\\envs\\fhgr\\lib\\site-packages (from ale-py~=0.8.1->shimmy[atari]~=1.3.0->stable-baselines3[extra]) (6.0.1)\n",
      "Requirement already satisfied: rsa<5,>=3.1.4 in c:\\users\\csang\\miniconda3\\envs\\fhgr\\lib\\site-packages (from google-auth<3,>=1.6.3->tensorboard>=2.9.1->stable-baselines3[extra]) (4.9)\n",
      "Requirement already satisfied: pyasn1-modules>=0.2.1 in c:\\users\\csang\\miniconda3\\envs\\fhgr\\lib\\site-packages (from google-auth<3,>=1.6.3->tensorboard>=2.9.1->stable-baselines3[extra]) (0.3.0)\n",
      "Requirement already satisfied: cachetools<6.0,>=2.0.0 in c:\\users\\csang\\miniconda3\\envs\\fhgr\\lib\\site-packages (from google-auth<3,>=1.6.3->tensorboard>=2.9.1->stable-baselines3[extra]) (5.3.0)\n",
      "Requirement already satisfied: requests-oauthlib>=0.7.0 in c:\\users\\csang\\miniconda3\\envs\\fhgr\\lib\\site-packages (from google-auth-oauthlib<2,>=0.5->tensorboard>=2.9.1->stable-baselines3[extra]) (1.3.1)\n",
      "Requirement already satisfied: mdurl~=0.1 in c:\\users\\csang\\miniconda3\\envs\\fhgr\\lib\\site-packages (from markdown-it-py<3.0.0,>=2.1.0->rich->stable-baselines3[extra]) (0.1.2)\n",
      "Requirement already satisfied: charset-normalizer<4,>=2 in c:\\users\\csang\\miniconda3\\envs\\fhgr\\lib\\site-packages (from requests->autorom[accept-rom-license]~=0.6.1->stable-baselines3[extra]) (3.0.1)\n",
      "Requirement already satisfied: urllib3<1.27,>=1.21.1 in c:\\users\\csang\\miniconda3\\envs\\fhgr\\lib\\site-packages (from requests->autorom[accept-rom-license]~=0.6.1->stable-baselines3[extra]) (1.26.14)\n",
      "Requirement already satisfied: certifi>=2017.4.17 in c:\\users\\csang\\miniconda3\\envs\\fhgr\\lib\\site-packages (from requests->autorom[accept-rom-license]~=0.6.1->stable-baselines3[extra]) (2022.12.7)\n",
      "Requirement already satisfied: idna<4,>=2.5 in c:\\users\\csang\\miniconda3\\envs\\fhgr\\lib\\site-packages (from requests->autorom[accept-rom-license]~=0.6.1->stable-baselines3[extra]) (3.4)\n",
      "Requirement already satisfied: MarkupSafe>=2.1.1 in c:\\users\\csang\\miniconda3\\envs\\fhgr\\lib\\site-packages (from werkzeug>=1.0.1->tensorboard>=2.9.1->stable-baselines3[extra]) (2.1.2)\n",
      "Requirement already satisfied: mpmath>=0.19 in c:\\users\\csang\\miniconda3\\envs\\fhgr\\lib\\site-packages (from sympy->torch>=1.13->stable-baselines3[extra]) (1.3.0)\n",
      "Requirement already satisfied: pyasn1<0.6.0,>=0.4.6 in c:\\users\\csang\\miniconda3\\envs\\fhgr\\lib\\site-packages (from pyasn1-modules>=0.2.1->google-auth<3,>=1.6.3->tensorboard>=2.9.1->stable-baselines3[extra]) (0.5.0)\n",
      "Requirement already satisfied: oauthlib>=3.0.0 in c:\\users\\csang\\miniconda3\\envs\\fhgr\\lib\\site-packages (from requests-oauthlib>=0.7.0->google-auth-oauthlib<2,>=0.5->tensorboard>=2.9.1->stable-baselines3[extra]) (3.2.2)\n"
     ]
    }
   ],
   "source": [
    "!pip install stable-baselines3[extra]"
   ]
  },
  {
   "cell_type": "markdown",
   "metadata": {},
   "source": [
    "# Load the environment"
   ]
  },
  {
   "cell_type": "code",
   "execution_count": 2,
   "metadata": {},
   "outputs": [
    {
     "name": "stdout",
     "output_type": "stream",
     "text": [
      "WARNING:tensorflow:From c:\\Users\\csang\\miniconda3\\envs\\fhgr\\lib\\site-packages\\keras\\src\\losses.py:2976: The name tf.losses.sparse_softmax_cross_entropy is deprecated. Please use tf.compat.v1.losses.sparse_softmax_cross_entropy instead.\n",
      "\n"
     ]
    }
   ],
   "source": [
    "import os\n",
    "import gym\n",
    "from stable_baselines3 import PPO\n",
    "from stable_baselines3.common.vec_env import DummyVecEnv\n",
    "from stable_baselines3.common.evaluation import evaluate_policy"
   ]
  },
  {
   "cell_type": "code",
   "execution_count": 4,
   "metadata": {},
   "outputs": [],
   "source": [
    "environmentName = 'CartPole-v1'\n",
    "env = gym.make(environmentName, render_mode='human')"
   ]
  },
  {
   "cell_type": "code",
   "execution_count": 5,
   "metadata": {},
   "outputs": [
    {
     "data": {
      "text/plain": [
       "'CartPole-v1'"
      ]
     },
     "execution_count": 5,
     "metadata": {},
     "output_type": "execute_result"
    }
   ],
   "source": [
    "environmentName"
   ]
  },
  {
   "cell_type": "code",
   "execution_count": 6,
   "metadata": {},
   "outputs": [
    {
     "name": "stderr",
     "output_type": "stream",
     "text": [
      "c:\\Users\\csang\\miniconda3\\envs\\fhgr\\lib\\site-packages\\gym\\utils\\passive_env_checker.py:233: DeprecationWarning: `np.bool8` is a deprecated alias for `np.bool_`.  (Deprecated NumPy 1.24)\n",
      "  if not isinstance(terminated, (bool, np.bool8)):\n"
     ]
    },
    {
     "name": "stdout",
     "output_type": "stream",
     "text": [
      "Episode: 1 Score: 17.0\n",
      "Episode: 2 Score: 17.0\n",
      "Episode: 3 Score: 14.0\n",
      "Episode: 4 Score: 10.0\n",
      "Episode: 5 Score: 15.0\n",
      "Episode: 6 Score: 12.0\n",
      "Episode: 7 Score: 15.0\n",
      "Episode: 8 Score: 45.0\n",
      "Episode: 9 Score: 15.0\n",
      "Episode: 10 Score: 10.0\n"
     ]
    }
   ],
   "source": [
    "for episode in range(1, 11):\n",
    "    state = env.reset()\n",
    "    done = False\n",
    "    score = 0\n",
    "\n",
    "    while not done:\n",
    "        env.render()\n",
    "        action = env.action_space.sample()\n",
    "        step_result = env.step(action)\n",
    "        \n",
    "        if len(step_result) == 4:\n",
    "            n_state, reward, done, info = step_result\n",
    "        elif len(step_result) == 5:\n",
    "            n_state, reward, done, truncated, info = step_result\n",
    "            done = done or truncated\n",
    "\n",
    "        score += reward\n",
    "    print('Episode: {} Score: {}'.format(episode, score))\n",
    "env.close()"
   ]
  },
  {
   "cell_type": "code",
   "execution_count": 8,
   "metadata": {},
   "outputs": [
    {
     "data": {
      "text/plain": [
       "Discrete(2)"
      ]
     },
     "execution_count": 8,
     "metadata": {},
     "output_type": "execute_result"
    }
   ],
   "source": [
    "env.action_space"
   ]
  },
  {
   "cell_type": "code",
   "execution_count": 9,
   "metadata": {},
   "outputs": [
    {
     "data": {
      "text/plain": [
       "1"
      ]
     },
     "execution_count": 9,
     "metadata": {},
     "output_type": "execute_result"
    }
   ],
   "source": [
    "env.action_space.sample()"
   ]
  },
  {
   "cell_type": "code",
   "execution_count": 10,
   "metadata": {},
   "outputs": [
    {
     "data": {
      "text/plain": [
       "Box([-4.8000002e+00 -3.4028235e+38 -4.1887903e-01 -3.4028235e+38], [4.8000002e+00 3.4028235e+38 4.1887903e-01 3.4028235e+38], (4,), float32)"
      ]
     },
     "execution_count": 10,
     "metadata": {},
     "output_type": "execute_result"
    }
   ],
   "source": [
    "env.observation_space"
   ]
  }
 ],
 "metadata": {
  "kernelspec": {
   "display_name": "fhgr",
   "language": "python",
   "name": "python3"
  },
  "language_info": {
   "codemirror_mode": {
    "name": "ipython",
    "version": 3
   },
   "file_extension": ".py",
   "mimetype": "text/x-python",
   "name": "python",
   "nbconvert_exporter": "python",
   "pygments_lexer": "ipython3",
   "version": "3.10.9"
  }
 },
 "nbformat": 4,
 "nbformat_minor": 2
}
